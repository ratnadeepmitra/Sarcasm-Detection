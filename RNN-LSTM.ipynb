{
 "cells": [
  {
   "cell_type": "markdown",
   "metadata": {},
   "source": [
    "### Import libraries (Might not need all of them)"
   ]
  },
  {
   "cell_type": "code",
   "execution_count": 56,
   "metadata": {},
   "outputs": [
    {
     "data": {
      "text/html": [
       "<script type=\"text/javascript\">window.PlotlyConfig = {MathJaxConfig: 'local'};</script><script type=\"text/javascript\">if (window.MathJax) {MathJax.Hub.Config({SVG: {font: \"STIX-Web\"}});}</script><script>requirejs.config({paths: { 'plotly': ['https://cdn.plot.ly/plotly-latest.min']},});if(!window._Plotly) {require(['plotly'],function(plotly) {window._Plotly=plotly;});}</script>"
      ],
      "text/vnd.plotly.v1+html": [
       "<script type=\"text/javascript\">window.PlotlyConfig = {MathJaxConfig: 'local'};</script><script type=\"text/javascript\">if (window.MathJax) {MathJax.Hub.Config({SVG: {font: \"STIX-Web\"}});}</script><script>requirejs.config({paths: { 'plotly': ['https://cdn.plot.ly/plotly-latest.min']},});if(!window._Plotly) {require(['plotly'],function(plotly) {window._Plotly=plotly;});}</script>"
      ]
     },
     "metadata": {},
     "output_type": "display_data"
    }
   ],
   "source": [
    "import tensorflow as tf\n",
    "import keras\n",
    "import numpy as np\n",
    "%matplotlib inline\n",
    "from matplotlib import pyplot as plt\n",
    "from IPython.display import SVG, display\n",
    "import re, os\n",
    "from string import printable\n",
    "import string\n",
    "from string import punctuation\n",
    "import pandas as pd\n",
    "from sklearn.utils import shuffle\n",
    "from sklearn import model_selection\n",
    "from sklearn.model_selection import train_test_split\n",
    "import warnings\n",
    "warnings.filterwarnings(\"ignore\")\n",
    "from pathlib import Path\n",
    "import json\n",
    "from tensorflow.python.client import device_lib\n",
    "from PIL import Image\n",
    "import copy\n",
    "\n",
    "py.init_notebook_mode(connected=True)\n",
    "\n",
    "# For reproducibility\n",
    "np.random.seed(123)"
   ]
  },
  {
   "cell_type": "markdown",
   "metadata": {},
   "source": [
    "### Import Keras libraries (Might not need all of them)"
   ]
  },
  {
   "cell_type": "code",
   "execution_count": 81,
   "metadata": {},
   "outputs": [],
   "source": [
    "from keras.models import  Sequential, Model, model_from_json, load_model\n",
    "from keras import regularizers\n",
    "from keras import backend as K\n",
    "from keras.preprocessing import sequence\n",
    "from keras.layers.core import Dense, Dropout, Activation, Lambda, Flatten, Reshape\n",
    "from keras.optimizers import SGD, Adam, RMSprop\n",
    "from keras.utils import np_utils\n",
    "from keras.regularizers import l2\n",
    "from keras.layers import Input, LSTM, Embedding, BatchNormalization, MaxPooling1D, concatenate, Dense\n",
    "from keras.layers.convolutional import Conv2D, MaxPooling2D, ZeroPadding2D, AveragePooling2D\n",
    "from keras.callbacks import EarlyStopping\n",
    "from keras.preprocessing.text import Tokenizer\n",
    "from keras.preprocessing.image import ImageDataGenerator\n",
    "from keras.layers.normalization import BatchNormalization\n",
    "from keras import backend as K\n",
    "from keras.layers import Bidirectional, SimpleRNN\n",
    "from keras.utils.vis_utils import model_to_dot\n",
    "from keras.callbacks import TensorBoard, ModelCheckpoint"
   ]
  },
  {
   "cell_type": "markdown",
   "metadata": {},
   "source": [
    "### Read data Preprocess"
   ]
  },
  {
   "cell_type": "code",
   "execution_count": 82,
   "metadata": {},
   "outputs": [],
   "source": [
    "df = pd.read_csv(\"data_for_sarcasm_detection_RD.txt\", sep='\\t', names = [\"sarcasm_flag\", \"tweet\"])"
   ]
  },
  {
   "cell_type": "code",
   "execution_count": 83,
   "metadata": {},
   "outputs": [
    {
     "name": "stdout",
     "output_type": "stream",
     "text": [
      "['sarcasm_flag', 'tweet']\n",
      "(41755, 2)\n"
     ]
    }
   ],
   "source": [
    "df = shuffle(df)\n",
    "print(list(df))\n",
    "print(df.shape)"
   ]
  },
  {
   "cell_type": "markdown",
   "metadata": {},
   "source": [
    "#### Remove hastags and urls"
   ]
  },
  {
   "cell_type": "code",
   "execution_count": 84,
   "metadata": {},
   "outputs": [],
   "source": [
    "def tweet_cleanup_urls_hashtags(tweet):   \n",
    "    ## Remove urls and hashtags\n",
    "    pattern1 = r\"http\\S+\"\n",
    "    pattern2 = r\"@\\S+\"\n",
    "    pattern3 = r\"#\\S+\"\n",
    "    combined_pattern = r'|'.join((pattern1, pattern2, pattern3))\n",
    "    result = re.sub(combined_pattern, \"\", tweet)\n",
    "    return(result)"
   ]
  },
  {
   "cell_type": "code",
   "execution_count": 85,
   "metadata": {},
   "outputs": [],
   "source": [
    "df['tweet'] = df['tweet'].apply(tweet_cleanup_urls_hashtags)"
   ]
  },
  {
   "cell_type": "markdown",
   "metadata": {},
   "source": [
    "#### Convert tweet to lower case"
   ]
  },
  {
   "cell_type": "code",
   "execution_count": 87,
   "metadata": {},
   "outputs": [
    {
     "data": {
      "text/html": [
       "<div>\n",
       "<style scoped>\n",
       "    .dataframe tbody tr th:only-of-type {\n",
       "        vertical-align: middle;\n",
       "    }\n",
       "\n",
       "    .dataframe tbody tr th {\n",
       "        vertical-align: top;\n",
       "    }\n",
       "\n",
       "    .dataframe thead th {\n",
       "        text-align: right;\n",
       "    }\n",
       "</style>\n",
       "<table border=\"1\" class=\"dataframe\">\n",
       "  <thead>\n",
       "    <tr style=\"text-align: right;\">\n",
       "      <th></th>\n",
       "      <th>sarcasm_flag</th>\n",
       "      <th>tweet</th>\n",
       "    </tr>\n",
       "  </thead>\n",
       "  <tbody>\n",
       "    <tr>\n",
       "      <th>9205</th>\n",
       "      <td>1</td>\n",
       "      <td>funny the founder of the birther movement try...</td>\n",
       "    </tr>\n",
       "    <tr>\n",
       "      <th>72</th>\n",
       "      <td>1</td>\n",
       "      <td>how do i look? \" friend : \" you look fine. \" g...</td>\n",
       "    </tr>\n",
       "    <tr>\n",
       "      <th>24583</th>\n",
       "      <td>0</td>\n",
       "      <td>beta convention was so much fun! can't wait fo...</td>\n",
       "    </tr>\n",
       "    <tr>\n",
       "      <th>34249</th>\n",
       "      <td>0</td>\n",
       "      <td>this is pathetic spin when he clearly meant ...</td>\n",
       "    </tr>\n",
       "    <tr>\n",
       "      <th>35164</th>\n",
       "      <td>1</td>\n",
       "      <td>lol i love math but hate my geometry teacher</td>\n",
       "    </tr>\n",
       "  </tbody>\n",
       "</table>\n",
       "</div>"
      ],
      "text/plain": [
       "       sarcasm_flag                                              tweet\n",
       "9205              1   funny the founder of the birther movement try...\n",
       "72                1  how do i look? \" friend : \" you look fine. \" g...\n",
       "24583             0  beta convention was so much fun! can't wait fo...\n",
       "34249             0    this is pathetic spin when he clearly meant ...\n",
       "35164             1      lol i love math but hate my geometry teacher "
      ]
     },
     "execution_count": 87,
     "metadata": {},
     "output_type": "execute_result"
    }
   ],
   "source": [
    "df['tweet'] = df['tweet'].str.lower()\n",
    "df.head()"
   ]
  },
  {
   "cell_type": "markdown",
   "metadata": {},
   "source": [
    "#### Remove punctuations"
   ]
  },
  {
   "cell_type": "code",
   "execution_count": 88,
   "metadata": {},
   "outputs": [],
   "source": [
    "def strip_punctuation(s):\n",
    "    return ''.join(c for c in s if c not in punctuation)"
   ]
  },
  {
   "cell_type": "code",
   "execution_count": 89,
   "metadata": {},
   "outputs": [
    {
     "data": {
      "text/html": [
       "<div>\n",
       "<style scoped>\n",
       "    .dataframe tbody tr th:only-of-type {\n",
       "        vertical-align: middle;\n",
       "    }\n",
       "\n",
       "    .dataframe tbody tr th {\n",
       "        vertical-align: top;\n",
       "    }\n",
       "\n",
       "    .dataframe thead th {\n",
       "        text-align: right;\n",
       "    }\n",
       "</style>\n",
       "<table border=\"1\" class=\"dataframe\">\n",
       "  <thead>\n",
       "    <tr style=\"text-align: right;\">\n",
       "      <th></th>\n",
       "      <th>sarcasm_flag</th>\n",
       "      <th>tweet</th>\n",
       "    </tr>\n",
       "  </thead>\n",
       "  <tbody>\n",
       "    <tr>\n",
       "      <th>9205</th>\n",
       "      <td>1</td>\n",
       "      <td>funny the founder of the birther movement try...</td>\n",
       "    </tr>\n",
       "    <tr>\n",
       "      <th>72</th>\n",
       "      <td>1</td>\n",
       "      <td>how do i look  friend   you look fine  good fr...</td>\n",
       "    </tr>\n",
       "    <tr>\n",
       "      <th>24583</th>\n",
       "      <td>0</td>\n",
       "      <td>beta convention was so much fun cant wait for ...</td>\n",
       "    </tr>\n",
       "    <tr>\n",
       "      <th>34249</th>\n",
       "      <td>0</td>\n",
       "      <td>this is pathetic spin when he clearly meant ...</td>\n",
       "    </tr>\n",
       "    <tr>\n",
       "      <th>35164</th>\n",
       "      <td>1</td>\n",
       "      <td>lol i love math but hate my geometry teacher</td>\n",
       "    </tr>\n",
       "  </tbody>\n",
       "</table>\n",
       "</div>"
      ],
      "text/plain": [
       "       sarcasm_flag                                              tweet\n",
       "9205              1   funny the founder of the birther movement try...\n",
       "72                1  how do i look  friend   you look fine  good fr...\n",
       "24583             0  beta convention was so much fun cant wait for ...\n",
       "34249             0    this is pathetic spin when he clearly meant ...\n",
       "35164             1      lol i love math but hate my geometry teacher "
      ]
     },
     "execution_count": 89,
     "metadata": {},
     "output_type": "execute_result"
    }
   ],
   "source": [
    "df['tweet'] = df['tweet'].map(lambda x: strip_punctuation(x))\n",
    "df.head()"
   ]
  },
  {
   "cell_type": "markdown",
   "metadata": {},
   "source": [
    "### Build model using simple LSTM"
   ]
  },
  {
   "cell_type": "code",
   "execution_count": 90,
   "metadata": {},
   "outputs": [],
   "source": [
    "# Convert raw URL string in list of lists where characters that are contained in \"printable\" \n",
    "# are stored encoded as integer \n",
    "tw_int_tokens = [[printable.index(x) + 1 for x in tweet if x in printable] for tweet in df.tweet]"
   ]
  },
  {
   "cell_type": "code",
   "execution_count": 91,
   "metadata": {},
   "outputs": [],
   "source": [
    "# Cut URL string at max_len or pad with zeros if shorter\n",
    "max_len=250\n",
    "X = sequence.pad_sequences(tw_int_tokens, maxlen=max_len)"
   ]
  },
  {
   "cell_type": "code",
   "execution_count": 92,
   "metadata": {},
   "outputs": [],
   "source": [
    "# Extract labels form df to numpy array\n",
    "target = np.array(df.sarcasm_flag)"
   ]
  },
  {
   "cell_type": "code",
   "execution_count": 93,
   "metadata": {},
   "outputs": [
    {
     "name": "stdout",
     "output_type": "stream",
     "text": [
      "Matrix dimensions of X:  (41755, 250) Vector dimension of target:  (41755,)\n"
     ]
    }
   ],
   "source": [
    "print('Matrix dimensions of X: ', X.shape, 'Vector dimension of target: ', target.shape)"
   ]
  },
  {
   "cell_type": "code",
   "execution_count": 94,
   "metadata": {},
   "outputs": [],
   "source": [
    "# Simple Cross-Validation: Split the data set into training and test data\n",
    "x_train, x_test, y_train, y_test = model_selection.train_test_split(X, target, test_size=0.2, random_state=33)"
   ]
  },
  {
   "cell_type": "code",
   "execution_count": 95,
   "metadata": {},
   "outputs": [],
   "source": [
    "y_train = tf.keras.utils.to_categorical(y_train, 2)\n",
    "y_test = tf.keras.utils.to_categorical(y_test, 2)"
   ]
  },
  {
   "cell_type": "code",
   "execution_count": 96,
   "metadata": {},
   "outputs": [],
   "source": [
    "## Simple LSTM\n",
    "\n",
    "max_len=250\n",
    "emb_dim=32\n",
    "max_vocab_len=100\n",
    "lstm_output_size=32\n",
    "W_reg=regularizers.l2(1e-4)\n",
    "\n",
    "# Input\n",
    "main_input = Input(shape=(max_len,), dtype='int32', name='main_input')\n",
    "\n",
    "# Embedding layer\n",
    "emb = Embedding(input_dim=max_vocab_len, output_dim=emb_dim, input_length=max_len,\n",
    "                dropout=0.2, W_regularizer=W_reg)(main_input) \n",
    "\n",
    "# LSTM layer\n",
    "lstm = LSTM(lstm_output_size)(emb)\n",
    "lstm = Dropout(0.5)(lstm)\n",
    "lstm = Dropout(0.5)(lstm)\n",
    "        \n",
    "\n",
    "# Output layer (last fully connected layer)\n",
    "output = Dense(2, activation='sigmoid', name='output')(lstm)\n",
    "\n",
    "\n",
    "# Compile model and define optimizer\n",
    "model = Model(input=[main_input], output=[output])\n",
    "adam = Adam(lr=1e-4, beta_1=0.9, beta_2=0.999, epsilon=1e-08, decay=0.0)\n",
    "model.compile(optimizer=adam, loss='binary_crossentropy', metrics=['accuracy'])"
   ]
  },
  {
   "cell_type": "code",
   "execution_count": 97,
   "metadata": {},
   "outputs": [
    {
     "name": "stdout",
     "output_type": "stream",
     "text": [
      "_________________________________________________________________\n",
      "Layer (type)                 Output Shape              Param #   \n",
      "=================================================================\n",
      "main_input (InputLayer)      (None, 250)               0         \n",
      "_________________________________________________________________\n",
      "embedding_2 (Embedding)      (None, 250, 32)           3200      \n",
      "_________________________________________________________________\n",
      "lstm_2 (LSTM)                (None, 32)                8320      \n",
      "_________________________________________________________________\n",
      "dropout_3 (Dropout)          (None, 32)                0         \n",
      "_________________________________________________________________\n",
      "dropout_4 (Dropout)          (None, 32)                0         \n",
      "_________________________________________________________________\n",
      "output (Dense)               (None, 2)                 66        \n",
      "=================================================================\n",
      "Total params: 11,586\n",
      "Trainable params: 11,586\n",
      "Non-trainable params: 0\n",
      "_________________________________________________________________\n"
     ]
    }
   ],
   "source": [
    "model.summary()"
   ]
  },
  {
   "cell_type": "code",
   "execution_count": 98,
   "metadata": {},
   "outputs": [],
   "source": [
    "batch_size = 32\n",
    "num_epochs = 50"
   ]
  },
  {
   "cell_type": "code",
   "execution_count": 99,
   "metadata": {},
   "outputs": [
    {
     "name": "stdout",
     "output_type": "stream",
     "text": [
      "Train on 26723 samples, validate on 6681 samples\n",
      "Epoch 1/50\n",
      "26723/26723 [==============================] - 153s 6ms/step - loss: 0.6642 - acc: 0.6460 - val_loss: 0.5901 - val_acc: 0.6999\n",
      "Epoch 2/50\n",
      "26723/26723 [==============================] - 151s 6ms/step - loss: 0.4898 - acc: 0.7787 - val_loss: 0.3956 - val_acc: 0.8322\n",
      "Epoch 3/50\n",
      "26723/26723 [==============================] - 157s 6ms/step - loss: 0.4163 - acc: 0.8205 - val_loss: 0.3746 - val_acc: 0.8396\n",
      "Epoch 4/50\n",
      "26723/26723 [==============================] - 155s 6ms/step - loss: 0.4019 - acc: 0.8278 - val_loss: 0.3744 - val_acc: 0.8358\n",
      "Epoch 5/50\n",
      "26723/26723 [==============================] - 159s 6ms/step - loss: 0.3957 - acc: 0.8316 - val_loss: 0.3690 - val_acc: 0.8383\n",
      "Epoch 6/50\n",
      "26723/26723 [==============================] - 163s 6ms/step - loss: 0.3916 - acc: 0.8327 - val_loss: 0.3657 - val_acc: 0.8428\n",
      "Epoch 7/50\n",
      "26723/26723 [==============================] - 147s 6ms/step - loss: 0.3881 - acc: 0.8342 - val_loss: 0.3652 - val_acc: 0.8419\n",
      "Epoch 8/50\n",
      "26723/26723 [==============================] - 157s 6ms/step - loss: 0.3887 - acc: 0.8347 - val_loss: 0.3667 - val_acc: 0.8426\n",
      "Epoch 9/50\n",
      "26723/26723 [==============================] - 155s 6ms/step - loss: 0.3860 - acc: 0.8357 - val_loss: 0.3640 - val_acc: 0.8422A: 5s\n",
      "Epoch 10/50\n",
      "26723/26723 [==============================] - 157s 6ms/step - loss: 0.3837 - acc: 0.8362 - val_loss: 0.3638 - val_acc: 0.8403\n",
      "Epoch 11/50\n",
      "26723/26723 [==============================] - 166s 6ms/step - loss: 0.3835 - acc: 0.8369 - val_loss: 0.3632 - val_acc: 0.8402\n",
      "Epoch 12/50\n",
      "26723/26723 [==============================] - 161s 6ms/step - loss: 0.3830 - acc: 0.8370 - val_loss: 0.3625 - val_acc: 0.8400\n",
      "Epoch 13/50\n",
      "26723/26723 [==============================] - 159s 6ms/step - loss: 0.3821 - acc: 0.8375 - val_loss: 0.3632 - val_acc: 0.8419\n",
      "Epoch 14/50\n",
      "26723/26723 [==============================] - 128s 5ms/step - loss: 0.3796 - acc: 0.8384 - val_loss: 0.3660 - val_acc: 0.8418\n",
      "Epoch 15/50\n",
      "26723/26723 [==============================] - 115s 4ms/step - loss: 0.3793 - acc: 0.8362 - val_loss: 0.3607 - val_acc: 0.8414\n",
      "Epoch 16/50\n",
      "26723/26723 [==============================] - 112s 4ms/step - loss: 0.3791 - acc: 0.8381 - val_loss: 0.3607 - val_acc: 0.8420\n",
      "Epoch 17/50\n",
      "26723/26723 [==============================] - 113s 4ms/step - loss: 0.3796 - acc: 0.8372 - val_loss: 0.3613 - val_acc: 0.8431\n",
      "Epoch 18/50\n",
      "26723/26723 [==============================] - 111s 4ms/step - loss: 0.3797 - acc: 0.8376 - val_loss: 0.3610 - val_acc: 0.8401\n",
      "Epoch 19/50\n",
      "26723/26723 [==============================] - 112s 4ms/step - loss: 0.3788 - acc: 0.8371 - val_loss: 0.3606 - val_acc: 0.8396\n",
      "Epoch 20/50\n",
      "26723/26723 [==============================] - 111s 4ms/step - loss: 0.3802 - acc: 0.8382 - val_loss: 0.3603 - val_acc: 0.8402\n",
      "Epoch 21/50\n",
      "26723/26723 [==============================] - 112s 4ms/step - loss: 0.3772 - acc: 0.8392 - val_loss: 0.3601 - val_acc: 0.8428\n",
      "Epoch 22/50\n",
      "26723/26723 [==============================] - 104s 4ms/step - loss: 0.3781 - acc: 0.8385 - val_loss: 0.3611 - val_acc: 0.8397\n",
      "Epoch 23/50\n",
      "26723/26723 [==============================] - 97s 4ms/step - loss: 0.3770 - acc: 0.8381 - val_loss: 0.3589 - val_acc: 0.8422\n",
      "Epoch 24/50\n",
      "26723/26723 [==============================] - 98s 4ms/step - loss: 0.3761 - acc: 0.8390 - val_loss: 0.3595 - val_acc: 0.8408\n",
      "Epoch 25/50\n",
      "26723/26723 [==============================] - 97s 4ms/step - loss: 0.3787 - acc: 0.8386 - val_loss: 0.3606 - val_acc: 0.8398\n",
      "Epoch 26/50\n",
      "26723/26723 [==============================] - 98s 4ms/step - loss: 0.3768 - acc: 0.8396 - val_loss: 0.3627 - val_acc: 0.8429\n",
      "Epoch 27/50\n",
      "26723/26723 [==============================] - 97s 4ms/step - loss: 0.3775 - acc: 0.8393 - val_loss: 0.3594 - val_acc: 0.8407\n",
      "Epoch 28/50\n",
      "26723/26723 [==============================] - 103s 4ms/step - loss: 0.3748 - acc: 0.8386 - val_loss: 0.3599 - val_acc: 0.8430\n",
      "Epoch 29/50\n",
      "26723/26723 [==============================] - 112s 4ms/step - loss: 0.3748 - acc: 0.8382 - val_loss: 0.3599 - val_acc: 0.8419\n",
      "Epoch 30/50\n",
      "26723/26723 [==============================] - 109s 4ms/step - loss: 0.3743 - acc: 0.8395 - val_loss: 0.3590 - val_acc: 0.8403\n",
      "Epoch 31/50\n",
      "26723/26723 [==============================] - 105s 4ms/step - loss: 0.3748 - acc: 0.8389 - val_loss: 0.3604 - val_acc: 0.8399\n",
      "Epoch 32/50\n",
      "26723/26723 [==============================] - 115s 4ms/step - loss: 0.3757 - acc: 0.8379 - val_loss: 0.3586 - val_acc: 0.8407\n",
      "Epoch 33/50\n",
      "26723/26723 [==============================] - 112s 4ms/step - loss: 0.3743 - acc: 0.8388 - val_loss: 0.3586 - val_acc: 0.8407\n",
      "Epoch 34/50\n",
      "26723/26723 [==============================] - 109s 4ms/step - loss: 0.3732 - acc: 0.8391 - val_loss: 0.3579 - val_acc: 0.8416\n",
      "Epoch 35/50\n",
      "26723/26723 [==============================] - 116s 4ms/step - loss: 0.3748 - acc: 0.8389 - val_loss: 0.3596 - val_acc: 0.8440\n",
      "Epoch 36/50\n",
      "26723/26723 [==============================] - 103s 4ms/step - loss: 0.3738 - acc: 0.8384 - val_loss: 0.3588 - val_acc: 0.8403\n",
      "Epoch 37/50\n",
      "26723/26723 [==============================] - 99s 4ms/step - loss: 0.3747 - acc: 0.8391 - val_loss: 0.3584 - val_acc: 0.8431\n",
      "Epoch 38/50\n",
      "26723/26723 [==============================] - 97s 4ms/step - loss: 0.3725 - acc: 0.8390 - val_loss: 0.3577 - val_acc: 0.8413\n",
      "Epoch 39/50\n",
      "26723/26723 [==============================] - 113s 4ms/step - loss: 0.3728 - acc: 0.8392 - val_loss: 0.3579 - val_acc: 0.8407\n",
      "Epoch 40/50\n",
      "26723/26723 [==============================] - 101s 4ms/step - loss: 0.3725 - acc: 0.8387 - val_loss: 0.3578 - val_acc: 0.8411\n",
      "Epoch 41/50\n",
      "26723/26723 [==============================] - 100s 4ms/step - loss: 0.3731 - acc: 0.8385 - val_loss: 0.3579 - val_acc: 0.8436\n",
      "Epoch 42/50\n",
      "26723/26723 [==============================] - 112s 4ms/step - loss: 0.3730 - acc: 0.8388 - val_loss: 0.3579 - val_acc: 0.8410\n",
      "Epoch 43/50\n",
      "26723/26723 [==============================] - 110s 4ms/step - loss: 0.3734 - acc: 0.8391 - val_loss: 0.3573 - val_acc: 0.8411\n",
      "Epoch 44/50\n",
      "26723/26723 [==============================] - 115s 4ms/step - loss: 0.3722 - acc: 0.8387 - val_loss: 0.3585 - val_acc: 0.8407\n",
      "Epoch 45/50\n",
      "26723/26723 [==============================] - 106s 4ms/step - loss: 0.3727 - acc: 0.8382 - val_loss: 0.3573 - val_acc: 0.8417\n",
      "Epoch 46/50\n",
      "26723/26723 [==============================] - 102s 4ms/step - loss: 0.3722 - acc: 0.8390 - val_loss: 0.3576 - val_acc: 0.8416\n",
      "Epoch 47/50\n",
      "26723/26723 [==============================] - 118s 4ms/step - loss: 0.3733 - acc: 0.8389 - val_loss: 0.3603 - val_acc: 0.8436\n",
      "Epoch 48/50\n",
      "26723/26723 [==============================] - 113s 4ms/step - loss: 0.3710 - acc: 0.8395 - val_loss: 0.3575 - val_acc: 0.8412\n",
      "Epoch 49/50\n",
      "26723/26723 [==============================] - 114s 4ms/step - loss: 0.3728 - acc: 0.8381 - val_loss: 0.3580 - val_acc: 0.8437\n",
      "Epoch 50/50\n",
      "26723/26723 [==============================] - 115s 4ms/step - loss: 0.3722 - acc: 0.8400 - val_loss: 0.3570 - val_acc: 0.8419\n"
     ]
    }
   ],
   "source": [
    "modelrnn_train = model.fit(x_train, y_train, validation_split=0.2, batch_size=batch_size, epochs=num_epochs)"
   ]
  },
  {
   "cell_type": "markdown",
   "metadata": {},
   "source": [
    "### Save model"
   ]
  },
  {
   "cell_type": "code",
   "execution_count": 100,
   "metadata": {},
   "outputs": [
    {
     "name": "stdout",
     "output_type": "stream",
     "text": [
      "Saved model to disk\n"
     ]
    }
   ],
   "source": [
    "# Serialize model to JSON\n",
    "model_digit_json = model.to_json()\n",
    "with open(\"model_sarcasm.json\", \"w\") as json_file:\n",
    "    json_file.write(model_digit_json)\n",
    "    \n",
    "# Serialize weights to HDF5\n",
    "model.save_weights(\"model_sarcasm.h5\")\n",
    "print(\"Saved model to disk\")"
   ]
  },
  {
   "cell_type": "markdown",
   "metadata": {},
   "source": [
    "### Plot model accuracy"
   ]
  },
  {
   "cell_type": "code",
   "execution_count": 101,
   "metadata": {},
   "outputs": [
    {
     "data": {
      "image/png": "[encoded data removed]",
      "text/plain": [
       "<Figure size 432x288 with 1 Axes>"
      ]
     },
     "metadata": {},
     "output_type": "display_data"
    }
   ],
   "source": [
    "plt.plot(modelrnn_train.history['acc'])\n",
    "plt.plot(modelrnn_train.history['val_acc'])\n",
    "plt.title('RNN LSTM model accuracy')\n",
    "plt.ylabel('accuracy')\n",
    "plt.xlabel('epoch')\n",
    "plt.legend(['train', 'validation'], loc='bottom right')\n",
    "plt.show()"
   ]
  },
  {
   "cell_type": "markdown",
   "metadata": {},
   "source": [
    "### Plot model loss"
   ]
  },
  {
   "cell_type": "code",
   "execution_count": 102,
   "metadata": {},
   "outputs": [
    {
     "data": {
      "image/png": "[encoded data removed]",
      "text/plain": [
       "<Figure size 432x288 with 1 Axes>"
      ]
     },
     "metadata": {},
     "output_type": "display_data"
    }
   ],
   "source": [
    "plt.plot(modelrnn_train.history['loss'])\n",
    "plt.plot(modelrnn_train.history['val_loss'])\n",
    "plt.title('RNN LSTM model loss')\n",
    "plt.ylabel('loss')\n",
    "plt.xlabel('epoch')\n",
    "plt.legend(['train', 'validation'], loc='upper right')\n",
    "plt.show()"
   ]
  },
  {
   "cell_type": "markdown",
   "metadata": {},
   "source": [
    "### Evaluate model"
   ]
  },
  {
   "cell_type": "code",
   "execution_count": 103,
   "metadata": {},
   "outputs": [
    {
     "name": "stdout",
     "output_type": "stream",
     "text": [
      "8351/8351 [==============================] - 5s 546us/step\n",
      "\n",
      "Test Accuracy: 84.00%\n"
     ]
    }
   ],
   "source": [
    "loss, accuracy = model.evaluate(x_test, y_test, verbose=1)\n",
    "print(\"\\nTest Accuracy: %.2f%%\" % (accuracy*100))"
   ]
  }
 ],
 "metadata": {
  "kernelspec": {
   "display_name": "Python 3",
   "language": "python",
   "name": "python3"
  },
  "language_info": {
   "codemirror_mode": {
    "name": "ipython",
    "version": 3
   },
   "file_extension": ".py",
   "mimetype": "text/x-python",
   "name": "python",
   "nbconvert_exporter": "python",
   "pygments_lexer": "ipython3",
   "version": "3.6.5"
  }
 },
 "nbformat": 4,
 "nbformat_minor": 2
}
