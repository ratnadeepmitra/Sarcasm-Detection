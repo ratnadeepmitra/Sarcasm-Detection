{
 "cells": [
  {
   "cell_type": "code",
   "execution_count": 216,
   "metadata": {},
   "outputs": [
    {
     "data": {
      "text/html": [
       "<script type=\"text/javascript\">window.PlotlyConfig = {MathJaxConfig: 'local'};</script><script type=\"text/javascript\">if (window.MathJax) {MathJax.Hub.Config({SVG: {font: \"STIX-Web\"}});}</script><script>requirejs.config({paths: { 'plotly': ['https://cdn.plot.ly/plotly-latest.min']},});if(!window._Plotly) {require(['plotly'],function(plotly) {window._Plotly=plotly;});}</script>"
      ],
      "text/vnd.plotly.v1+html": [
       "<script type=\"text/javascript\">window.PlotlyConfig = {MathJaxConfig: 'local'};</script><script type=\"text/javascript\">if (window.MathJax) {MathJax.Hub.Config({SVG: {font: \"STIX-Web\"}});}</script><script>requirejs.config({paths: { 'plotly': ['https://cdn.plot.ly/plotly-latest.min']},});if(!window._Plotly) {require(['plotly'],function(plotly) {window._Plotly=plotly;});}</script>"
      ]
     },
     "metadata": {},
     "output_type": "display_data"
    }
   ],
   "source": [
    "import tensorflow as tf\n",
    "import keras\n",
    "import numpy as np\n",
    "%matplotlib inline\n",
    "from matplotlib import pyplot as plt\n",
    "from IPython.display import SVG, display\n",
    "import re, os\n",
    "from string import printable\n",
    "import nltk\n",
    "import string\n",
    "from string import punctuation\n",
    "import pandas as pd\n",
    "from nltk.corpus import stopwords\n",
    "from sklearn.manifold import TSNE\n",
    "from sklearn.utils import shuffle\n",
    "from sklearn import model_selection\n",
    "from sklearn.model_selection import train_test_split\n",
    "import warnings\n",
    "warnings.filterwarnings(\"ignore\")\n",
    "from pathlib import Path\n",
    "import json\n",
    "from tensorflow.python.client import device_lib\n",
    "from PIL import Image\n",
    "import copy\n",
    "\n",
    "## Plotly\n",
    "import plotly.offline as py\n",
    "import plotly.graph_objs as go\n",
    "\n",
    "# NLTK\n",
    "import nltk\n",
    "from nltk.corpus import stopwords\n",
    "from nltk.stem import SnowballStemmer\n",
    "\n",
    "py.init_notebook_mode(connected=True)\n",
    "\n",
    "# For reproducibility\n",
    "np.random.seed(123)"
   ]
  },
  {
   "cell_type": "code",
   "execution_count": 217,
   "metadata": {},
   "outputs": [],
   "source": [
    "from keras.models import  Sequential, Model, model_from_json, load_model\n",
    "from keras.layers import Input, Dense, Conv2D, MaxPooling2D, UpSampling2D\n",
    "from keras import regularizers\n",
    "from keras import backend as K\n",
    "from keras.preprocessing import sequence\n",
    "from keras.layers.core import Dense, Dropout, Activation, Lambda,Flatten, Reshape\n",
    "from keras.optimizers import SGD, Adam, RMSprop\n",
    "from keras.utils import np_utils\n",
    "from keras.regularizers import l2\n",
    "from keras.layers import Input, ELU, LSTM, Embedding, Convolution2D, MaxPooling2D, BatchNormalization, Convolution1D, MaxPooling1D, concatenate\n",
    "from keras.layers.convolutional import Conv2D, MaxPooling2D, ZeroPadding2D, AveragePooling2D\n",
    "from keras.callbacks import EarlyStopping\n",
    "from keras.preprocessing.text import Tokenizer\n",
    "from keras.preprocessing.image import ImageDataGenerator\n",
    "from keras.layers.normalization import BatchNormalization\n",
    "from keras import backend as K\n",
    "\n",
    "from keras.applications import VGG16\n",
    "from keras.applications.vgg16 import preprocess_input\n",
    "\n",
    "from keras.layers import Bidirectional, SimpleRNN\n",
    "from keras.utils import plot_model # pydot, graphviz are dependencies\n",
    "from keras.utils.vis_utils import model_to_dot\n",
    "from keras.callbacks import TensorBoard, ModelCheckpoint"
   ]
  },
  {
   "cell_type": "code",
   "execution_count": 218,
   "metadata": {},
   "outputs": [],
   "source": [
    "train = pd.read_csv(\"data/Train_v1.txt\", sep='\\t', header=None, names = [\"train_sen\", \"sarcasm_flag\", \"tweet\"])\n",
    "test = pd.read_csv(\"data/Test_v1.txt\", sep='\\t', header=None, names = [\"test_sen\", \"sarcasm_flag\", \"tweet\"])"
   ]
  },
  {
   "cell_type": "code",
   "execution_count": 219,
   "metadata": {},
   "outputs": [
    {
     "name": "stdout",
     "output_type": "stream",
     "text": [
      "['sarcasm_flag', 'tweet']\n",
      "(41755, 2)\n"
     ]
    }
   ],
   "source": [
    "train = train.drop([\"train_sen\"],axis=1)\n",
    "test = test.drop([\"test_sen\"],axis=1)\n",
    "df = pd.concat([train, test])\n",
    "df = shuffle(df)\n",
    "print(list(df))\n",
    "print(df.shape)"
   ]
  },
  {
   "cell_type": "code",
   "execution_count": 220,
   "metadata": {},
   "outputs": [],
   "source": [
    "def tweet_cleanup_urls_hashtags(tweet):   \n",
    "    ## Remove urls and hashtags\n",
    "    pattern1 = r\"http\\S+\"\n",
    "    pattern2 = r\"@\\S+\"\n",
    "    pattern3 = r\"#\\S+\"\n",
    "    combined_pattern = r'|'.join((pattern1, pattern2, pattern3))\n",
    "    result = re.sub(combined_pattern, \"\", tweet)\n",
    "    return(result)"
   ]
  },
  {
   "cell_type": "code",
   "execution_count": 221,
   "metadata": {},
   "outputs": [],
   "source": [
    "df['tweet'] = df['tweet'].apply(tweet_cleanup_urls_hashtags)"
   ]
  },
  {
   "cell_type": "code",
   "execution_count": 222,
   "metadata": {},
   "outputs": [
    {
     "data": {
      "text/html": [
       "<div>\n",
       "<style scoped>\n",
       "    .dataframe tbody tr th:only-of-type {\n",
       "        vertical-align: middle;\n",
       "    }\n",
       "\n",
       "    .dataframe tbody tr th {\n",
       "        vertical-align: top;\n",
       "    }\n",
       "\n",
       "    .dataframe thead th {\n",
       "        text-align: right;\n",
       "    }\n",
       "</style>\n",
       "<table border=\"1\" class=\"dataframe\">\n",
       "  <thead>\n",
       "    <tr style=\"text-align: right;\">\n",
       "      <th></th>\n",
       "      <th>sarcasm_flag</th>\n",
       "      <th>tweet</th>\n",
       "    </tr>\n",
       "  </thead>\n",
       "  <tbody>\n",
       "    <tr>\n",
       "      <th>33398</th>\n",
       "      <td>1</td>\n",
       "      <td>raise ur hand if you're just a lil bitch with ...</td>\n",
       "    </tr>\n",
       "    <tr>\n",
       "      <th>16921</th>\n",
       "      <td>0</td>\n",
       "      <td>Stop trying so hard for people who don't care.</td>\n",
       "    </tr>\n",
       "    <tr>\n",
       "      <th>10017</th>\n",
       "      <td>0</td>\n",
       "      <td>it's only the beginning of the quarter &amp; I alr...</td>\n",
       "    </tr>\n",
       "    <tr>\n",
       "      <th>12354</th>\n",
       "      <td>0</td>\n",
       "      <td>:  i love you reply to me please i love you \"...</td>\n",
       "    </tr>\n",
       "    <tr>\n",
       "      <th>23165</th>\n",
       "      <td>1</td>\n",
       "      <td>Cold room. Rainy weather. No sound from alarm ...</td>\n",
       "    </tr>\n",
       "  </tbody>\n",
       "</table>\n",
       "</div>"
      ],
      "text/plain": [
       "       sarcasm_flag                                              tweet\n",
       "33398             1  raise ur hand if you're just a lil bitch with ...\n",
       "16921             0     Stop trying so hard for people who don't care.\n",
       "10017             0  it's only the beginning of the quarter & I alr...\n",
       "12354             0   :  i love you reply to me please i love you \"...\n",
       "23165             1  Cold room. Rainy weather. No sound from alarm ..."
      ]
     },
     "execution_count": 222,
     "metadata": {},
     "output_type": "execute_result"
    }
   ],
   "source": [
    "df.head()"
   ]
  },
  {
   "cell_type": "code",
   "execution_count": 224,
   "metadata": {},
   "outputs": [
    {
     "data": {
      "text/html": [
       "<div>\n",
       "<style scoped>\n",
       "    .dataframe tbody tr th:only-of-type {\n",
       "        vertical-align: middle;\n",
       "    }\n",
       "\n",
       "    .dataframe tbody tr th {\n",
       "        vertical-align: top;\n",
       "    }\n",
       "\n",
       "    .dataframe thead th {\n",
       "        text-align: right;\n",
       "    }\n",
       "</style>\n",
       "<table border=\"1\" class=\"dataframe\">\n",
       "  <thead>\n",
       "    <tr style=\"text-align: right;\">\n",
       "      <th></th>\n",
       "      <th>sarcasm_flag</th>\n",
       "      <th>tweet</th>\n",
       "    </tr>\n",
       "  </thead>\n",
       "  <tbody>\n",
       "    <tr>\n",
       "      <th>33398</th>\n",
       "      <td>1</td>\n",
       "      <td>raise ur hand if you're just a lil bitch with ...</td>\n",
       "    </tr>\n",
       "    <tr>\n",
       "      <th>16921</th>\n",
       "      <td>0</td>\n",
       "      <td>stop trying so hard for people who don't care.</td>\n",
       "    </tr>\n",
       "    <tr>\n",
       "      <th>10017</th>\n",
       "      <td>0</td>\n",
       "      <td>it's only the beginning of the quarter &amp; i alr...</td>\n",
       "    </tr>\n",
       "    <tr>\n",
       "      <th>12354</th>\n",
       "      <td>0</td>\n",
       "      <td>:  i love you reply to me please i love you \"...</td>\n",
       "    </tr>\n",
       "    <tr>\n",
       "      <th>23165</th>\n",
       "      <td>1</td>\n",
       "      <td>cold room. rainy weather. no sound from alarm ...</td>\n",
       "    </tr>\n",
       "  </tbody>\n",
       "</table>\n",
       "</div>"
      ],
      "text/plain": [
       "       sarcasm_flag                                              tweet\n",
       "33398             1  raise ur hand if you're just a lil bitch with ...\n",
       "16921             0     stop trying so hard for people who don't care.\n",
       "10017             0  it's only the beginning of the quarter & i alr...\n",
       "12354             0   :  i love you reply to me please i love you \"...\n",
       "23165             1  cold room. rainy weather. no sound from alarm ..."
      ]
     },
     "execution_count": 224,
     "metadata": {},
     "output_type": "execute_result"
    }
   ],
   "source": [
    "df['tweet'] = df['tweet'].str.lower()\n",
    "df.head()"
   ]
  },
  {
   "cell_type": "code",
   "execution_count": 225,
   "metadata": {},
   "outputs": [],
   "source": [
    "def strip_punctuation(s):\n",
    "    return ''.join(c for c in s if c not in punctuation)"
   ]
  },
  {
   "cell_type": "code",
   "execution_count": 226,
   "metadata": {},
   "outputs": [
    {
     "data": {
      "text/html": [
       "<div>\n",
       "<style scoped>\n",
       "    .dataframe tbody tr th:only-of-type {\n",
       "        vertical-align: middle;\n",
       "    }\n",
       "\n",
       "    .dataframe tbody tr th {\n",
       "        vertical-align: top;\n",
       "    }\n",
       "\n",
       "    .dataframe thead th {\n",
       "        text-align: right;\n",
       "    }\n",
       "</style>\n",
       "<table border=\"1\" class=\"dataframe\">\n",
       "  <thead>\n",
       "    <tr style=\"text-align: right;\">\n",
       "      <th></th>\n",
       "      <th>sarcasm_flag</th>\n",
       "      <th>tweet</th>\n",
       "    </tr>\n",
       "  </thead>\n",
       "  <tbody>\n",
       "    <tr>\n",
       "      <th>33398</th>\n",
       "      <td>1</td>\n",
       "      <td>raise ur hand if youre just a lil bitch with a...</td>\n",
       "    </tr>\n",
       "    <tr>\n",
       "      <th>16921</th>\n",
       "      <td>0</td>\n",
       "      <td>stop trying so hard for people who dont care</td>\n",
       "    </tr>\n",
       "    <tr>\n",
       "      <th>10017</th>\n",
       "      <td>0</td>\n",
       "      <td>its only the beginning of the quarter  i alrea...</td>\n",
       "    </tr>\n",
       "    <tr>\n",
       "      <th>12354</th>\n",
       "      <td>0</td>\n",
       "      <td>i love you reply to me please i love you  m...</td>\n",
       "    </tr>\n",
       "    <tr>\n",
       "      <th>23165</th>\n",
       "      <td>1</td>\n",
       "      <td>cold room rainy weather no sound from alarm cl...</td>\n",
       "    </tr>\n",
       "  </tbody>\n",
       "</table>\n",
       "</div>"
      ],
      "text/plain": [
       "       sarcasm_flag                                              tweet\n",
       "33398             1  raise ur hand if youre just a lil bitch with a...\n",
       "16921             0       stop trying so hard for people who dont care\n",
       "10017             0  its only the beginning of the quarter  i alrea...\n",
       "12354             0     i love you reply to me please i love you  m...\n",
       "23165             1  cold room rainy weather no sound from alarm cl..."
      ]
     },
     "execution_count": 226,
     "metadata": {},
     "output_type": "execute_result"
    }
   ],
   "source": [
    "df['tweet'] = df['tweet'].map(lambda x: strip_punctuation(x))\n",
    "df.head()"
   ]
  },
  {
   "cell_type": "code",
   "execution_count": 233,
   "metadata": {},
   "outputs": [],
   "source": [
    "# Convert raw URL string in list of lists where characters that are contained in \"printable\" \n",
    "# are stored encoded as integer \n",
    "tw_int_tokens = [[printable.index(x) + 1 for x in tweet if x in printable] for tweet in df.tweet]"
   ]
  },
  {
   "cell_type": "code",
   "execution_count": 234,
   "metadata": {},
   "outputs": [],
   "source": [
    "# Cut URL string at max_len or pad with zeros if shorter\n",
    "max_len=250\n",
    "X = sequence.pad_sequences(tw_int_tokens, maxlen=max_len)"
   ]
  },
  {
   "cell_type": "code",
   "execution_count": 235,
   "metadata": {},
   "outputs": [],
   "source": [
    "# Extract labels form df to numpy array\n",
    "target = np.array(df.sarcasm_flag)"
   ]
  },
  {
   "cell_type": "code",
   "execution_count": 236,
   "metadata": {},
   "outputs": [
    {
     "name": "stdout",
     "output_type": "stream",
     "text": [
      "Matrix dimensions of X:  (41755, 250) Vector dimension of target:  (41755,)\n"
     ]
    }
   ],
   "source": [
    "print('Matrix dimensions of X: ', X.shape, 'Vector dimension of target: ', target.shape)"
   ]
  },
  {
   "cell_type": "code",
   "execution_count": 237,
   "metadata": {},
   "outputs": [],
   "source": [
    "# Simple Cross-Validation: Split the data set into training and test data\n",
    "x_train, x_test, y_train, y_test = model_selection.train_test_split(X, target, test_size=0.2, random_state=33)"
   ]
  },
  {
   "cell_type": "code",
   "execution_count": 238,
   "metadata": {},
   "outputs": [],
   "source": [
    "y_train = tf.keras.utils.to_categorical(y_train, 2)\n",
    "y_test = tf.keras.utils.to_categorical(y_test, 2)"
   ]
  },
  {
   "cell_type": "code",
   "execution_count": 241,
   "metadata": {},
   "outputs": [],
   "source": [
    "## Simple LSTM\n",
    "\n",
    "max_len=250\n",
    "emb_dim=32\n",
    "max_vocab_len=100\n",
    "lstm_output_size=32\n",
    "W_reg=regularizers.l2(1e-4)\n",
    "\n",
    "# Input\n",
    "main_input = Input(shape=(max_len,), dtype='int32', name='main_input')\n",
    "\n",
    "# Embedding layer\n",
    "emb = Embedding(input_dim=max_vocab_len, output_dim=emb_dim, input_length=max_len,\n",
    "                dropout=0.2, W_regularizer=W_reg)(main_input) \n",
    "\n",
    "# LSTM layer\n",
    "lstm = LSTM(lstm_output_size)(emb)\n",
    "lstm = Dropout(0.5)(lstm)\n",
    "lstm = Dropout(0.5)(lstm)\n",
    "        \n",
    "\n",
    "# Output layer (last fully connected layer)\n",
    "output = Dense(2, activation='sigmoid', name='output')(lstm)\n",
    "\n",
    "\n",
    "# Compile model and define optimizer\n",
    "model = Model(input=[main_input], output=[output])\n",
    "adam = Adam(lr=1e-4, beta_1=0.9, beta_2=0.999, epsilon=1e-08, decay=0.0)\n",
    "model.compile(optimizer=adam, loss='binary_crossentropy', metrics=['accuracy'])"
   ]
  },
  {
   "cell_type": "code",
   "execution_count": 242,
   "metadata": {},
   "outputs": [
    {
     "name": "stdout",
     "output_type": "stream",
     "text": [
      "_________________________________________________________________\n",
      "Layer (type)                 Output Shape              Param #   \n",
      "=================================================================\n",
      "main_input (InputLayer)      (None, 250)               0         \n",
      "_________________________________________________________________\n",
      "embedding_7 (Embedding)      (None, 250, 32)           3200      \n",
      "_________________________________________________________________\n",
      "lstm_7 (LSTM)                (None, 32)                8320      \n",
      "_________________________________________________________________\n",
      "dropout_13 (Dropout)         (None, 32)                0         \n",
      "_________________________________________________________________\n",
      "dropout_14 (Dropout)         (None, 32)                0         \n",
      "_________________________________________________________________\n",
      "output (Dense)               (None, 2)                 66        \n",
      "=================================================================\n",
      "Total params: 11,586\n",
      "Trainable params: 11,586\n",
      "Non-trainable params: 0\n",
      "_________________________________________________________________\n"
     ]
    }
   ],
   "source": [
    "model.summary()"
   ]
  },
  {
   "cell_type": "code",
   "execution_count": 243,
   "metadata": {},
   "outputs": [],
   "source": [
    "batch_size = 32\n",
    "num_epochs = 50"
   ]
  },
  {
   "cell_type": "code",
   "execution_count": 244,
   "metadata": {},
   "outputs": [
    {
     "name": "stdout",
     "output_type": "stream",
     "text": [
      "Train on 26723 samples, validate on 6681 samples\n",
      "Epoch 1/50\n",
      "26723/26723 [==============================] - 98s 4ms/step - loss: 0.6650 - acc: 0.6441 - val_loss: 0.5875 - val_acc: 0.7081\n",
      "Epoch 2/50\n",
      "26723/26723 [==============================] - 102s 4ms/step - loss: 0.5104 - acc: 0.7664 - val_loss: 0.4086 - val_acc: 0.8278\n",
      "Epoch 3/50\n",
      "26723/26723 [==============================] - 109s 4ms/step - loss: 0.4249 - acc: 0.8144 - val_loss: 0.3891 - val_acc: 0.8300\n",
      "Epoch 4/50\n",
      "26723/26723 [==============================] - 115s 4ms/step - loss: 0.4103 - acc: 0.8241 - val_loss: 0.3818 - val_acc: 0.8317\n",
      "Epoch 5/50\n",
      "26723/26723 [==============================] - 120s 4ms/step - loss: 0.4005 - acc: 0.8306 - val_loss: 0.3796 - val_acc: 0.8306\n",
      "Epoch 6/50\n",
      "26723/26723 [==============================] - 117s 4ms/step - loss: 0.3931 - acc: 0.8345 - val_loss: 0.3760 - val_acc: 0.8335\n",
      "Epoch 7/50\n",
      "26723/26723 [==============================] - 115s 4ms/step - loss: 0.3922 - acc: 0.8346 - val_loss: 0.3746 - val_acc: 0.8339\n",
      "Epoch 8/50\n",
      "26723/26723 [==============================] - 115s 4ms/step - loss: 0.3903 - acc: 0.8351 - val_loss: 0.3744 - val_acc: 0.8328\n",
      "Epoch 9/50\n",
      "26723/26723 [==============================] - 120s 4ms/step - loss: 0.3887 - acc: 0.8361 - val_loss: 0.3732 - val_acc: 0.8335\n",
      "Epoch 10/50\n",
      "26723/26723 [==============================] - 115s 4ms/step - loss: 0.3868 - acc: 0.8373 - val_loss: 0.3739 - val_acc: 0.8330\n",
      "Epoch 11/50\n",
      "26723/26723 [==============================] - 113s 4ms/step - loss: 0.3848 - acc: 0.8368 - val_loss: 0.3735 - val_acc: 0.8328\n",
      "Epoch 12/50\n",
      "26723/26723 [==============================] - 125s 5ms/step - loss: 0.3844 - acc: 0.8371 - val_loss: 0.3737 - val_acc: 0.8342\n",
      "Epoch 13/50\n",
      "26723/26723 [==============================] - 126s 5ms/step - loss: 0.3858 - acc: 0.8370 - val_loss: 0.3730 - val_acc: 0.8330\n",
      "Epoch 14/50\n",
      "26723/26723 [==============================] - 115s 4ms/step - loss: 0.3828 - acc: 0.8388 - val_loss: 0.3720 - val_acc: 0.8332\n",
      "Epoch 15/50\n",
      "26723/26723 [==============================] - 115s 4ms/step - loss: 0.3838 - acc: 0.8399 - val_loss: 0.3726 - val_acc: 0.8348\n",
      "Epoch 16/50\n",
      "26723/26723 [==============================] - 114s 4ms/step - loss: 0.3799 - acc: 0.8393 - val_loss: 0.3728 - val_acc: 0.8351\n",
      "Epoch 17/50\n",
      "26723/26723 [==============================] - 121s 5ms/step - loss: 0.3778 - acc: 0.8397 - val_loss: 0.3729 - val_acc: 0.8326\n",
      "Epoch 18/50\n",
      "26723/26723 [==============================] - 102s 4ms/step - loss: 0.3792 - acc: 0.8390 - val_loss: 0.3712 - val_acc: 0.8347\n",
      "Epoch 19/50\n",
      "26723/26723 [==============================] - 116s 4ms/step - loss: 0.3770 - acc: 0.8391 - val_loss: 0.3706 - val_acc: 0.8351\n",
      "Epoch 20/50\n",
      "26723/26723 [==============================] - 121s 5ms/step - loss: 0.3791 - acc: 0.8398 - val_loss: 0.3711 - val_acc: 0.8345\n",
      "Epoch 21/50\n",
      "26723/26723 [==============================] - 116s 4ms/step - loss: 0.3773 - acc: 0.8390 - val_loss: 0.3741 - val_acc: 0.8349\n",
      "Epoch 22/50\n",
      "26723/26723 [==============================] - 118s 4ms/step - loss: 0.3790 - acc: 0.8393 - val_loss: 0.3715 - val_acc: 0.8330\n",
      "Epoch 23/50\n",
      "26723/26723 [==============================] - 117s 4ms/step - loss: 0.3750 - acc: 0.8399 - val_loss: 0.3711 - val_acc: 0.8340\n",
      "Epoch 24/50\n",
      "26723/26723 [==============================] - 116s 4ms/step - loss: 0.3756 - acc: 0.8400 - val_loss: 0.3746 - val_acc: 0.8312\n",
      "Epoch 25/50\n",
      "26723/26723 [==============================] - 118s 4ms/step - loss: 0.3759 - acc: 0.8394 - val_loss: 0.3710 - val_acc: 0.8343\n",
      "Epoch 26/50\n",
      "26723/26723 [==============================] - 116s 4ms/step - loss: 0.3754 - acc: 0.8387 - val_loss: 0.3699 - val_acc: 0.8346\n",
      "Epoch 27/50\n",
      "26723/26723 [==============================] - 117s 4ms/step - loss: 0.3749 - acc: 0.8383 - val_loss: 0.3703 - val_acc: 0.8363\n",
      "Epoch 28/50\n",
      "26723/26723 [==============================] - 115s 4ms/step - loss: 0.3755 - acc: 0.8393 - val_loss: 0.3703 - val_acc: 0.8346\n",
      "Epoch 29/50\n",
      "26723/26723 [==============================] - 115s 4ms/step - loss: 0.3760 - acc: 0.8407 - val_loss: 0.3710 - val_acc: 0.8332\n",
      "Epoch 30/50\n",
      "26723/26723 [==============================] - 117s 4ms/step - loss: 0.3737 - acc: 0.8398 - val_loss: 0.3700 - val_acc: 0.8339\n",
      "Epoch 31/50\n",
      "26723/26723 [==============================] - 125s 5ms/step - loss: 0.3729 - acc: 0.8410 - val_loss: 0.3719 - val_acc: 0.8365\n",
      "Epoch 32/50\n",
      "26723/26723 [==============================] - 121s 5ms/step - loss: 0.3726 - acc: 0.8389 - val_loss: 0.3695 - val_acc: 0.8346\n",
      "Epoch 33/50\n",
      "26723/26723 [==============================] - 109s 4ms/step - loss: 0.3733 - acc: 0.8401 - val_loss: 0.3697 - val_acc: 0.8336\n",
      "Epoch 34/50\n",
      "26723/26723 [==============================] - 125s 5ms/step - loss: 0.3738 - acc: 0.8398 - val_loss: 0.3690 - val_acc: 0.8366\n",
      "Epoch 35/50\n",
      "26723/26723 [==============================] - 121s 5ms/step - loss: 0.3739 - acc: 0.8397 - val_loss: 0.3707 - val_acc: 0.8317\n",
      "Epoch 36/50\n",
      "26723/26723 [==============================] - 122s 5ms/step - loss: 0.3731 - acc: 0.8403 - val_loss: 0.3698 - val_acc: 0.8330\n",
      "Epoch 37/50\n",
      "26723/26723 [==============================] - 130s 5ms/step - loss: 0.3725 - acc: 0.8401 - val_loss: 0.3688 - val_acc: 0.8365\n",
      "Epoch 38/50\n",
      "26723/26723 [==============================] - 113s 4ms/step - loss: 0.3731 - acc: 0.8405 - val_loss: 0.3696 - val_acc: 0.8330\n",
      "Epoch 39/50\n",
      "26723/26723 [==============================] - 109s 4ms/step - loss: 0.3720 - acc: 0.8403 - val_loss: 0.3694 - val_acc: 0.8356\n",
      "Epoch 40/50\n",
      "26723/26723 [==============================] - 102s 4ms/step - loss: 0.3727 - acc: 0.8400 - val_loss: 0.3699 - val_acc: 0.8356\n",
      "Epoch 41/50\n",
      "26723/26723 [==============================] - 108s 4ms/step - loss: 0.3717 - acc: 0.8407 - val_loss: 0.3697 - val_acc: 0.8345\n",
      "Epoch 42/50\n",
      "26723/26723 [==============================] - 107s 4ms/step - loss: 0.3725 - acc: 0.8400 - val_loss: 0.3684 - val_acc: 0.8351\n",
      "Epoch 43/50\n",
      "26723/26723 [==============================] - 110s 4ms/step - loss: 0.3725 - acc: 0.8388 - val_loss: 0.3698 - val_acc: 0.8345\n",
      "Epoch 44/50\n",
      "26723/26723 [==============================] - 118s 4ms/step - loss: 0.3720 - acc: 0.8393 - val_loss: 0.3691 - val_acc: 0.8326\n",
      "Epoch 45/50\n",
      "26723/26723 [==============================] - 120s 4ms/step - loss: 0.3716 - acc: 0.8399 - val_loss: 0.3691 - val_acc: 0.8330\n",
      "Epoch 46/50\n",
      "26723/26723 [==============================] - 107s 4ms/step - loss: 0.3701 - acc: 0.8397 - val_loss: 0.3678 - val_acc: 0.8357\n",
      "Epoch 47/50\n",
      "26723/26723 [==============================] - 114s 4ms/step - loss: 0.3702 - acc: 0.8394 - val_loss: 0.3708 - val_acc: 0.8324\n",
      "Epoch 48/50\n",
      "26723/26723 [==============================] - 111s 4ms/step - loss: 0.3702 - acc: 0.8401 - val_loss: 0.3719 - val_acc: 0.8317\n",
      "Epoch 49/50\n",
      "26723/26723 [==============================] - 111s 4ms/step - loss: 0.3711 - acc: 0.8405 - val_loss: 0.3700 - val_acc: 0.8358\n",
      "Epoch 50/50\n",
      "26723/26723 [==============================] - 109s 4ms/step - loss: 0.3700 - acc: 0.8397 - val_loss: 0.3744 - val_acc: 0.8311\n"
     ]
    }
   ],
   "source": [
    "modelrnn_train = model.fit(x_train, y_train, validation_split=0.2, batch_size=batch_size, epochs=num_epochs)"
   ]
  },
  {
   "cell_type": "code",
   "execution_count": null,
   "metadata": {},
   "outputs": [],
   "source": [
    "# Save the model\n",
    "# Serialize model to JSON\n",
    "model_digit_json = model.to_json()\n",
    "with open(\"model_sarcasm.json\", \"w\") as json_file:\n",
    "    json_file.write(model_digit_json)\n",
    "    \n",
    "# Serialize weights to HDF5\n",
    "model.save_weights(\"model_sarcasm.h5\")\n",
    "print(\"Saved model to disk\")"
   ]
  },
  {
   "cell_type": "code",
   "execution_count": 245,
   "metadata": {},
   "outputs": [
    {
     "data": {
      "image/png": "[encoded data removed]",
      "text/plain": [
       "<Figure size 432x288 with 1 Axes>"
      ]
     },
     "metadata": {},
     "output_type": "display_data"
    }
   ],
   "source": [
    "plt.plot(modelrnn_train.history['acc'])\n",
    "plt.plot(modelrnn_train.history['val_acc'])\n",
    "plt.title('RNN LSTM model accuracy')\n",
    "plt.ylabel('accuracy')\n",
    "plt.xlabel('epoch')\n",
    "plt.legend(['train', 'validation'], loc='bottom right')\n",
    "plt.show()"
   ]
  },
  {
   "cell_type": "code",
   "execution_count": 246,
   "metadata": {},
   "outputs": [
    {
     "data": {
      "image/png": "[encoded data removed]",
      "text/plain": [
       "<Figure size 432x288 with 1 Axes>"
      ]
     },
     "metadata": {},
     "output_type": "display_data"
    }
   ],
   "source": [
    "plt.plot(modelrnn_train.history['loss'])\n",
    "plt.plot(modelrnn_train.history['val_loss'])\n",
    "plt.title('RNN LSTM model loss')\n",
    "plt.ylabel('loss')\n",
    "plt.xlabel('epoch')\n",
    "plt.legend(['train', 'validation'], loc='upper left')\n",
    "plt.show()"
   ]
  },
  {
   "cell_type": "code",
   "execution_count": 208,
   "metadata": {},
   "outputs": [
    {
     "data": {
      "text/html": [
       "<div>\n",
       "<style scoped>\n",
       "    .dataframe tbody tr th:only-of-type {\n",
       "        vertical-align: middle;\n",
       "    }\n",
       "\n",
       "    .dataframe tbody tr th {\n",
       "        vertical-align: top;\n",
       "    }\n",
       "\n",
       "    .dataframe thead th {\n",
       "        text-align: right;\n",
       "    }\n",
       "</style>\n",
       "<table border=\"1\" class=\"dataframe\">\n",
       "  <thead>\n",
       "    <tr style=\"text-align: right;\">\n",
       "      <th></th>\n",
       "      <th>sarcasm_flag</th>\n",
       "      <th>tweet</th>\n",
       "    </tr>\n",
       "  </thead>\n",
       "  <tbody>\n",
       "    <tr>\n",
       "      <th>0</th>\n",
       "      <td>1</td>\n",
       "      <td>i loovee when people text back  😒</td>\n",
       "    </tr>\n",
       "    <tr>\n",
       "      <th>1</th>\n",
       "      <td>1</td>\n",
       "      <td>dont you love it when your parents are pissed ...</td>\n",
       "    </tr>\n",
       "    <tr>\n",
       "      <th>2</th>\n",
       "      <td>1</td>\n",
       "      <td>so many useless classes  great to be student</td>\n",
       "    </tr>\n",
       "    <tr>\n",
       "      <th>3</th>\n",
       "      <td>1</td>\n",
       "      <td>oh how i love getting home from work at 3am an...</td>\n",
       "    </tr>\n",
       "    <tr>\n",
       "      <th>4</th>\n",
       "      <td>1</td>\n",
       "      <td>i just love having grungy ass hair 😑</td>\n",
       "    </tr>\n",
       "  </tbody>\n",
       "</table>\n",
       "</div>"
      ],
      "text/plain": [
       "   sarcasm_flag                                              tweet\n",
       "0             1                 i loovee when people text back  😒 \n",
       "1             1  dont you love it when your parents are pissed ...\n",
       "2             1       so many useless classes  great to be student\n",
       "3             1  oh how i love getting home from work at 3am an...\n",
       "4             1              i just love having grungy ass hair 😑 "
      ]
     },
     "execution_count": 208,
     "metadata": {},
     "output_type": "execute_result"
    }
   ],
   "source": [
    "test = pd.read_csv(\"data/Test_v1.txt\", sep='\\t', header=None, names = [\"test_sen\", \"sarcasm_flag\", \"tweet\"])\n",
    "test = test.drop([\"test_sen\"],axis=1)\n",
    "test['tweet'] = test['tweet'].apply(tweet_cleanup_urls_hashtags)\n",
    "test['tweet'] = test['tweet'].str.lower()\n",
    "test['tweet'] = test['tweet'].map(lambda x: strip_punctuation(x))\n",
    "test.head()"
   ]
  },
  {
   "cell_type": "code",
   "execution_count": 247,
   "metadata": {},
   "outputs": [
    {
     "name": "stdout",
     "output_type": "stream",
     "text": [
      "8351/8351 [==============================] - 4s 464us/step\n",
      "\n",
      "Test Accuracy: 83.83%\n"
     ]
    }
   ],
   "source": [
    "loss, accuracy = model.evaluate(x_test, y_test, verbose=1)\n",
    "print(\"\\nTest Accuracy: %.2f%%\" % (accuracy*100))"
   ]
  },
  {
   "cell_type": "code",
   "execution_count": null,
   "metadata": {},
   "outputs": [],
   "source": []
  }
 ],
 "metadata": {
  "kernelspec": {
   "display_name": "Python 3",
   "language": "python",
   "name": "python3"
  },
  "language_info": {
   "codemirror_mode": {
    "name": "ipython",
    "version": 3
   },
   "file_extension": ".py",
   "mimetype": "text/x-python",
   "name": "python",
   "nbconvert_exporter": "python",
   "pygments_lexer": "ipython3",
   "version": "3.6.5"
  }
 },
 "nbformat": 4,
 "nbformat_minor": 2
}
